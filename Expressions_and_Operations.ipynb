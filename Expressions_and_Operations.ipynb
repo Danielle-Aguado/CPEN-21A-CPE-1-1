{
  "nbformat": 4,
  "nbformat_minor": 0,
  "metadata": {
    "colab": {
      "name": "Expressions and Operations.ipynb",
      "provenance": [],
      "authorship_tag": "ABX9TyMhX/kIxQi8wsYNZznkpiqI",
      "include_colab_link": true
    },
    "kernelspec": {
      "name": "python3",
      "display_name": "Python 3"
    },
    "language_info": {
      "name": "python"
    }
  },
  "cells": [
    {
      "cell_type": "markdown",
      "metadata": {
        "id": "view-in-github",
        "colab_type": "text"
      },
      "source": [
        "<a href=\"https://colab.research.google.com/github/Danielle-Aguado/CPEN-21A-CPE-1-1/blob/main/Expressions_and_Operations.ipynb\" target=\"_parent\"><img src=\"https://colab.research.google.com/assets/colab-badge.svg\" alt=\"Open In Colab\"/></a>"
      ]
    },
    {
      "cell_type": "markdown",
      "metadata": {
        "id": "I7cy5Hp9f6mN"
      },
      "source": [
        "##Boolean Operators\n",
        "###Boolean represent one of two values: True or False"
      ]
    },
    {
      "cell_type": "code",
      "metadata": {
        "colab": {
          "base_uri": "https://localhost:8080/"
        },
        "id": "e--mWub9gMZy",
        "outputId": "f390a552-e542-4087-b774-328d1bc57fc7"
      },
      "source": [
        "print(10>9)\n",
        "print(10<9)\n",
        "print(10==9)\n",
        "print(10!=9)"
      ],
      "execution_count": 2,
      "outputs": [
        {
          "output_type": "stream",
          "name": "stdout",
          "text": [
            "True\n",
            "False\n",
            "False\n",
            "True\n"
          ]
        }
      ]
    },
    {
      "cell_type": "code",
      "metadata": {
        "colab": {
          "base_uri": "https://localhost:8080/"
        },
        "id": "Pv6KW4Pegl8a",
        "outputId": "87810acf-3f5f-49d5-9e6b-682027883fcc"
      },
      "source": [
        "print(bool(True))\n",
        "print(bool(False))\n",
        "print(bool(1))\n",
        "print(bool(0))\n",
        "print(bool([]))\n",
        "print(bool(None))"
      ],
      "execution_count": 8,
      "outputs": [
        {
          "output_type": "stream",
          "name": "stdout",
          "text": [
            "True\n",
            "False\n",
            "True\n",
            "False\n",
            "False\n",
            "False\n"
          ]
        }
      ]
    },
    {
      "cell_type": "code",
      "metadata": {
        "colab": {
          "base_uri": "https://localhost:8080/"
        },
        "id": "41gbVubLhxy8",
        "outputId": "5cbd179b-3d7b-4192-ae84-68ecbccba000"
      },
      "source": [
        "def myFunction():return False\n",
        "print(myFunction())"
      ],
      "execution_count": 10,
      "outputs": [
        {
          "output_type": "stream",
          "name": "stdout",
          "text": [
            "False\n"
          ]
        }
      ]
    },
    {
      "cell_type": "code",
      "metadata": {
        "colab": {
          "base_uri": "https://localhost:8080/"
        },
        "id": "OsQnGFaUiGku",
        "outputId": "db78ebaa-4b06-4e19-d711-27df0f341b31"
      },
      "source": [
        "#Boolean answer of a function \n",
        "def myFunction(): return False\n",
        "\n",
        "if myFunction(): \n",
        "  print(\"Yes!\")\n",
        "else:\n",
        "    print(\"No!\")\n"
      ],
      "execution_count": 41,
      "outputs": [
        {
          "output_type": "stream",
          "name": "stdout",
          "text": [
            "No!\n"
          ]
        }
      ]
    },
    {
      "cell_type": "code",
      "metadata": {
        "colab": {
          "base_uri": "https://localhost:8080/"
        },
        "id": "Uh04iqYqirZ9",
        "outputId": "18a596f8-ef7d-442e-8707-f0ea236170de"
      },
      "source": [
        "a = 6\n",
        "b = 7\n",
        "print(a==b)\n",
        "print(a!=a)\n",
        "print(a<b)\n",
        "print(a>b)\n"
      ],
      "execution_count": 18,
      "outputs": [
        {
          "output_type": "stream",
          "name": "stdout",
          "text": [
            "False\n",
            "False\n",
            "True\n",
            "False\n"
          ]
        }
      ]
    },
    {
      "cell_type": "code",
      "metadata": {
        "colab": {
          "base_uri": "https://localhost:8080/"
        },
        "id": "K-tlFeP8jRMI",
        "outputId": "15522972-7123-46a7-84b0-b4396cc22351"
      },
      "source": [
        "print(10>9)"
      ],
      "execution_count": 15,
      "outputs": [
        {
          "output_type": "stream",
          "name": "stdout",
          "text": [
            "True\n"
          ]
        }
      ]
    },
    {
      "cell_type": "markdown",
      "metadata": {
        "id": "zUtWY_aMj1Al"
      },
      "source": [
        "##Python Operators"
      ]
    },
    {
      "cell_type": "code",
      "metadata": {
        "colab": {
          "base_uri": "https://localhost:8080/"
        },
        "id": "1JD7YzVnj5vd",
        "outputId": "7a4aa8e2-e1c3-40bd-9856-f998ce6d52df"
      },
      "source": [
        "print(10+5)\n",
        "print(10-5)\n",
        "print(10*5)\n",
        "print(10/5)\n",
        "print(10//5) #floor division\n",
        "print(10//3) #floor division\n",
        "print(10/3) #quotient\n",
        "print(10%3) #modulo\n",
        "print(10**2) #concatenation"
      ],
      "execution_count": 23,
      "outputs": [
        {
          "output_type": "stream",
          "name": "stdout",
          "text": [
            "15\n",
            "5\n",
            "50\n",
            "2.0\n",
            "2\n",
            "3\n",
            "3.3333333333333335\n",
            "1\n",
            "100\n"
          ]
        }
      ]
    },
    {
      "cell_type": "code",
      "metadata": {
        "colab": {
          "base_uri": "https://localhost:8080/"
        },
        "id": "52mwcQIalOpo",
        "outputId": "edfc7ace-3299-4f5b-e07b-c43bdff3aa43"
      },
      "source": [
        "a = 60  #0011 1100 , 0111 1000 ,1111 0000\n",
        "b = 13\n",
        "print(a&b)\n",
        "print(a|b)\n",
        "print(a<<1)\n",
        "print(a<<2)\n",
        "print(a>>1) #0011 1100 , 0001 1110"
      ],
      "execution_count": 32,
      "outputs": [
        {
          "output_type": "stream",
          "name": "stdout",
          "text": [
            "12\n",
            "61\n",
            "120\n",
            "240\n",
            "30\n"
          ]
        }
      ]
    },
    {
      "cell_type": "code",
      "metadata": {
        "colab": {
          "base_uri": "https://localhost:8080/"
        },
        "id": "7hUV_rrjp8j1",
        "outputId": "05dafed7-4f19-43d2-91b6-a04a40a4c0df"
      },
      "source": [
        "a+=2 #same as a = a + 2, a = 60 + 2, a=62\n",
        "print(a)"
      ],
      "execution_count": 33,
      "outputs": [
        {
          "output_type": "stream",
          "name": "stdout",
          "text": [
            "62\n"
          ]
        }
      ]
    },
    {
      "cell_type": "markdown",
      "metadata": {
        "id": "9JuLGOBjqeiq"
      },
      "source": [
        "#Logical Operator"
      ]
    },
    {
      "cell_type": "code",
      "metadata": {
        "colab": {
          "base_uri": "https://localhost:8080/"
        },
        "id": "R9g9luXnqiUj",
        "outputId": "19dae5d8-4d3d-4b17-cea7-10c1f730cc33"
      },
      "source": [
        "a = True\n",
        "b = False\n",
        "print(a and b)\n",
        "print(a or b)"
      ],
      "execution_count": 35,
      "outputs": [
        {
          "output_type": "stream",
          "name": "stdout",
          "text": [
            "False\n",
            "True\n"
          ]
        }
      ]
    },
    {
      "cell_type": "code",
      "metadata": {
        "colab": {
          "base_uri": "https://localhost:8080/"
        },
        "id": "L4TZmxBHsCxR",
        "outputId": "2c0dbce0-b1f3-432f-95e8-08dbfb6273ba"
      },
      "source": [
        "a = 60\n",
        "b = 13\n",
        "\n",
        "(a>b) and (a<b)\n",
        "(a>b) or (a<b)\n",
        "not(a>b)"
      ],
      "execution_count": 51,
      "outputs": [
        {
          "output_type": "execute_result",
          "data": {
            "text/plain": [
              "False"
            ]
          },
          "metadata": {},
          "execution_count": 51
        }
      ]
    },
    {
      "cell_type": "markdown",
      "metadata": {
        "id": "nfnm_kHptdaf"
      },
      "source": [
        "#Identity Operator"
      ]
    },
    {
      "cell_type": "code",
      "metadata": {
        "colab": {
          "base_uri": "https://localhost:8080/"
        },
        "id": "IZL8zEsHsxWf",
        "outputId": "04e12143-7edd-4bab-b06b-a4d59f33a9eb"
      },
      "source": [
        "print(a is b)\n",
        "print(a is not b)"
      ],
      "execution_count": 52,
      "outputs": [
        {
          "output_type": "stream",
          "name": "stdout",
          "text": [
            "False\n",
            "True\n"
          ]
        }
      ]
    }
  ]
}