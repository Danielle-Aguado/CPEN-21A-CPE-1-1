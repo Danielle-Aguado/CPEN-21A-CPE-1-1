{
  "nbformat": 4,
  "nbformat_minor": 0,
  "metadata": {
    "colab": {
      "name": "Loop Statement.ipynb",
      "provenance": [],
      "authorship_tag": "ABX9TyMlpiHSIPaY0tmGkiMapJBp",
      "include_colab_link": true
    },
    "kernelspec": {
      "name": "python3",
      "display_name": "Python 3"
    },
    "language_info": {
      "name": "python"
    }
  },
  "cells": [
    {
      "cell_type": "markdown",
      "metadata": {
        "id": "view-in-github",
        "colab_type": "text"
      },
      "source": [
        "<a href=\"https://colab.research.google.com/github/Danielle-Aguado/CPEN-21A-CPE-1-1/blob/main/Loop_Statement.ipynb\" target=\"_parent\"><img src=\"https://colab.research.google.com/assets/colab-badge.svg\" alt=\"Open In Colab\"/></a>"
      ]
    },
    {
      "cell_type": "markdown",
      "source": [
        "##For Loop Statement"
      ],
      "metadata": {
        "id": "TrZFGg8irTwH"
      }
    },
    {
      "cell_type": "code",
      "source": [
        "week = [\"Sunday\",\"Monday\",\"Tuesday\",\"Wednesday\",\"Thursday\",\"Friday\",\"Saturday\"]\n",
        "for x in week:\n",
        "  print(x)"
      ],
      "metadata": {
        "colab": {
          "base_uri": "https://localhost:8080/"
        },
        "id": "BTEMOZcfraBj",
        "outputId": "761d2252-7948-41ed-d56d-b9f5798ad0f2"
      },
      "execution_count": 2,
      "outputs": [
        {
          "output_type": "stream",
          "name": "stdout",
          "text": [
            "Sunday\n",
            "Monday\n",
            "Tuesday\n",
            "Wednesday\n",
            "Thursday\n",
            "Friday\n",
            "Saturday\n"
          ]
        }
      ]
    },
    {
      "cell_type": "markdown",
      "source": [
        "The break statement"
      ],
      "metadata": {
        "id": "6U4FnA8ftjuE"
      }
    },
    {
      "cell_type": "code",
      "source": [
        "#Example 2\n",
        "week = [\"Sunday\",\"Monday\",\"Tuesday\",\"Wednesday\",\"Thursday\",\"Friday\",\"Saturday\"]\n",
        "for x in week:\n",
        "  print(x)\n",
        "  if x==\"Thursday\":\n",
        "    break"
      ],
      "metadata": {
        "colab": {
          "base_uri": "https://localhost:8080/"
        },
        "id": "B2diP0nOsp1J",
        "outputId": "d377f95c-50a9-40cc-a459-6fdd825b5219"
      },
      "execution_count": 4,
      "outputs": [
        {
          "output_type": "stream",
          "name": "stdout",
          "text": [
            "Sunday\n",
            "Monday\n",
            "Tuesday\n",
            "Wednesday\n",
            "Thursday\n"
          ]
        }
      ]
    },
    {
      "cell_type": "code",
      "source": [
        "#Example 3\n",
        "week = [\"Sunday\",\"Monday\",\"Tuesday\",\"Wednesday\",\"Thursday\",\"Friday\",\"Saturday\"]\n",
        "for x in week:\n",
        "  if x==\"Thursday\":\n",
        "    break\n",
        "  print(x)"
      ],
      "metadata": {
        "colab": {
          "base_uri": "https://localhost:8080/"
        },
        "id": "arXujK88tyRm",
        "outputId": "78a85e48-c3e9-472f-8a40-c6595955d5f1"
      },
      "execution_count": 6,
      "outputs": [
        {
          "output_type": "stream",
          "name": "stdout",
          "text": [
            "Sunday\n",
            "Monday\n",
            "Tuesday\n",
            "Wednesday\n"
          ]
        }
      ]
    },
    {
      "cell_type": "markdown",
      "source": [
        "Looping through a String"
      ],
      "metadata": {
        "id": "0gYKJ9wCu19C"
      }
    },
    {
      "cell_type": "code",
      "source": [
        "#Example 4\n",
        "for x in \"week\":\n",
        "  print(x)"
      ],
      "metadata": {
        "colab": {
          "base_uri": "https://localhost:8080/"
        },
        "id": "UmGH1x8su6CU",
        "outputId": "b7ec6824-a6db-4324-df6b-13eaca975a1d"
      },
      "execution_count": 7,
      "outputs": [
        {
          "output_type": "stream",
          "name": "stdout",
          "text": [
            "w\n",
            "e\n",
            "e\n",
            "k\n"
          ]
        }
      ]
    },
    {
      "cell_type": "markdown",
      "source": [
        "The range() Function"
      ],
      "metadata": {
        "id": "Z7U4ykxQvZxg"
      }
    },
    {
      "cell_type": "code",
      "source": [
        "for x in range(6):\n",
        "  print(x)"
      ],
      "metadata": {
        "colab": {
          "base_uri": "https://localhost:8080/"
        },
        "id": "3WH_sV0Dvcq7",
        "outputId": "b86e9c78-af43-4a49-e7f5-3af1ca9a4686"
      },
      "execution_count": 11,
      "outputs": [
        {
          "output_type": "stream",
          "name": "stdout",
          "text": [
            "0\n",
            "1\n",
            "2\n",
            "3\n",
            "4\n",
            "5\n"
          ]
        }
      ]
    },
    {
      "cell_type": "code",
      "source": [
        "for x in range(2,6):\n",
        "  print(x)"
      ],
      "metadata": {
        "colab": {
          "base_uri": "https://localhost:8080/"
        },
        "id": "SGqRDnonwMI4",
        "outputId": "8b18cdb6-c4a9-4d50-9f66-52212b17f69c"
      },
      "execution_count": 12,
      "outputs": [
        {
          "output_type": "stream",
          "name": "stdout",
          "text": [
            "2\n",
            "3\n",
            "4\n",
            "5\n"
          ]
        }
      ]
    },
    {
      "cell_type": "markdown",
      "source": [
        "Nested Loops"
      ],
      "metadata": {
        "id": "hqxSJW8Gw5ja"
      }
    },
    {
      "cell_type": "code",
      "source": [
        "adjective = [\"red\",\"big\",\"tasty\"]\n",
        "fruits = [\"apple\",\"banana\",\"cherry\"]\n",
        "\n",
        "for x in adjective:\n",
        "  for y in fruits:\n",
        "    print(x,y)"
      ],
      "metadata": {
        "colab": {
          "base_uri": "https://localhost:8080/"
        },
        "id": "ed5pb-wMw85C",
        "outputId": "bcbb685c-4da9-4e3b-a7ef-926cd4cce13d"
      },
      "execution_count": 13,
      "outputs": [
        {
          "output_type": "stream",
          "name": "stdout",
          "text": [
            "red apple\n",
            "red banana\n",
            "red cherry\n",
            "big apple\n",
            "big banana\n",
            "big cherry\n",
            "tasty apple\n",
            "tasty banana\n",
            "tasty cherry\n"
          ]
        }
      ]
    },
    {
      "cell_type": "markdown",
      "source": [
        "##While loop Statement"
      ],
      "metadata": {
        "id": "MjRxOuLyzEI_"
      }
    },
    {
      "cell_type": "code",
      "source": [
        "i = 1\n",
        "while i<6:\n",
        "  print(i)\n",
        "  i += 1 #i = i+1 Assignment operator"
      ],
      "metadata": {
        "colab": {
          "base_uri": "https://localhost:8080/"
        },
        "id": "tdI4KcsozWU3",
        "outputId": "d2c65355-6424-4658-c3c9-55b26fb58def"
      },
      "execution_count": 14,
      "outputs": [
        {
          "output_type": "stream",
          "name": "stdout",
          "text": [
            "1\n",
            "2\n",
            "3\n",
            "4\n",
            "5\n"
          ]
        }
      ]
    },
    {
      "cell_type": "code",
      "source": [
        "#The break statement\n",
        "i=1\n",
        "while i<6:\n",
        "  print(i)\n",
        "  if i==3:\n",
        "    break\n",
        "  i+=1 #Assignment operator for addition"
      ],
      "metadata": {
        "colab": {
          "base_uri": "https://localhost:8080/"
        },
        "id": "zJhzuL8Uz_L2",
        "outputId": "737483c7-b73d-4ad5-a58a-8c3a623baa40"
      },
      "execution_count": 16,
      "outputs": [
        {
          "output_type": "stream",
          "name": "stdout",
          "text": [
            "1\n",
            "2\n",
            "3\n"
          ]
        }
      ]
    },
    {
      "cell_type": "code",
      "source": [
        "i = 1\n",
        "while i<6:\n",
        "  i+=1 #Assignment operator for addition\n",
        "  if i==3:\n",
        "    continue\n",
        "  print(i)"
      ],
      "metadata": {
        "colab": {
          "base_uri": "https://localhost:8080/"
        },
        "id": "lORwe_0r1fqw",
        "outputId": "bccaa3cb-2837-4c81-be27-c552201785e2"
      },
      "execution_count": 17,
      "outputs": [
        {
          "output_type": "stream",
          "name": "stdout",
          "text": [
            "2\n",
            "4\n",
            "5\n",
            "6\n"
          ]
        }
      ]
    },
    {
      "cell_type": "markdown",
      "source": [
        "Else statement"
      ],
      "metadata": {
        "id": "ZqELhQaE3atO"
      }
    },
    {
      "cell_type": "code",
      "source": [
        "i=1\n",
        "while i<6:\n",
        "  print(i)\n",
        "  i+=1\n",
        "else:\n",
        "  print(\"i is no longer less than 6\")"
      ],
      "metadata": {
        "colab": {
          "base_uri": "https://localhost:8080/"
        },
        "id": "uGrCh0vZ3I0m",
        "outputId": "f6482af7-39ba-47b2-d0b5-7794f5b52880"
      },
      "execution_count": 18,
      "outputs": [
        {
          "output_type": "stream",
          "name": "stdout",
          "text": [
            "1\n",
            "2\n",
            "3\n",
            "4\n",
            "5\n",
            "i is no longer less than 6\n"
          ]
        }
      ]
    },
    {
      "cell_type": "markdown",
      "source": [
        "###Application 1\n",
        "Create a python program"
      ],
      "metadata": {
        "id": "cWZf8ej43-5I"
      }
    },
    {
      "cell_type": "code",
      "source": [
        "hello = [\"Hello 0\",\"Hello 1\",\"Hello 2\",\"Hello 3\",\"Hello 4\",\"Hello 5\",\"Hello 6\",\"Hello 7\",\"Hello 8\",\"Hello 9\", \"Hello 10\"]\n",
        "for x in hello:\n",
        "  print(x)"
      ],
      "metadata": {
        "colab": {
          "base_uri": "https://localhost:8080/"
        },
        "id": "dPqcIcaL5ZXk",
        "outputId": "ecb548c6-530d-4953-847c-1b4a906a5022"
      },
      "execution_count": 21,
      "outputs": [
        {
          "output_type": "stream",
          "name": "stdout",
          "text": [
            "Hello 0\n",
            "Hello 1\n",
            "Hello 2\n",
            "Hello 3\n",
            "Hello 4\n",
            "Hello 5\n",
            "Hello 6\n",
            "Hello 7\n",
            "Hello 8\n",
            "Hello 9\n",
            "Hello 10\n"
          ]
        }
      ]
    },
    {
      "cell_type": "markdown",
      "source": [
        "###Application 2"
      ],
      "metadata": {
        "id": "ZjiRDvbn5mV0"
      }
    },
    {
      "cell_type": "code",
      "source": [
        "for x in range(3,10):\n",
        "  print(x)\n"
      ],
      "metadata": {
        "colab": {
          "base_uri": "https://localhost:8080/"
        },
        "id": "n1Un1Vs094m_",
        "outputId": "2b573589-1fd5-4619-9d46-b6e7e05b551b"
      },
      "execution_count": 55,
      "outputs": [
        {
          "output_type": "stream",
          "name": "stdout",
          "text": [
            "3\n",
            "4\n",
            "5\n",
            "6\n",
            "7\n",
            "8\n",
            "9\n"
          ]
        }
      ]
    },
    {
      "cell_type": "markdown",
      "source": [
        "or"
      ],
      "metadata": {
        "id": "ufuaUKu3R1uc"
      }
    },
    {
      "cell_type": "code",
      "source": [
        "a = 3\n",
        "while a<10:\n",
        "  print(a)\n",
        "  a+=1"
      ],
      "metadata": {
        "colab": {
          "base_uri": "https://localhost:8080/"
        },
        "id": "0PFusNJvR41O",
        "outputId": "384a2ed1-fe7e-4eb9-ed11-d658539621e6"
      },
      "execution_count": 64,
      "outputs": [
        {
          "output_type": "stream",
          "name": "stdout",
          "text": [
            "3\n",
            "4\n",
            "5\n",
            "6\n",
            "7\n",
            "8\n",
            "9\n"
          ]
        }
      ]
    },
    {
      "cell_type": "markdown",
      "source": [
        "or"
      ],
      "metadata": {
        "id": "9PvtJuaiTJjP"
      }
    },
    {
      "cell_type": "code",
      "source": [
        "integers = [\"3\",\"4\",\"5\",\"6\",\"7\",\"8\",\"9\"]\n",
        "for x in integers:\n",
        "  print(x)"
      ],
      "metadata": {
        "colab": {
          "base_uri": "https://localhost:8080/"
        },
        "id": "raa6TnmjTKn8",
        "outputId": "360a21e1-44eb-46c6-cb01-a23c2ba68462"
      },
      "execution_count": 60,
      "outputs": [
        {
          "output_type": "stream",
          "name": "stdout",
          "text": [
            "3\n",
            "4\n",
            "5\n",
            "6\n",
            "7\n",
            "8\n",
            "9\n"
          ]
        }
      ]
    }
  ]
}