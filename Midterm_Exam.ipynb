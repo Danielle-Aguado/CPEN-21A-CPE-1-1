{
  "nbformat": 4,
  "nbformat_minor": 0,
  "metadata": {
    "colab": {
      "name": "Midterm Exam.ipynb",
      "provenance": [],
      "authorship_tag": "ABX9TyMAEj6CsZAtasiXK9bMlZ3d",
      "include_colab_link": true
    },
    "kernelspec": {
      "name": "python3",
      "display_name": "Python 3"
    },
    "language_info": {
      "name": "python"
    }
  },
  "cells": [
    {
      "cell_type": "markdown",
      "metadata": {
        "id": "view-in-github",
        "colab_type": "text"
      },
      "source": [
        "<a href=\"https://colab.research.google.com/github/Danielle-Aguado/CPEN-21A-CPE-1-1/blob/main/Midterm_Exam.ipynb\" target=\"_parent\"><img src=\"https://colab.research.google.com/assets/colab-badge.svg\" alt=\"Open In Colab\"/></a>"
      ]
    },
    {
      "cell_type": "markdown",
      "metadata": {
        "id": "vbtZBG0SoGXF"
      },
      "source": [
        "#Midterm Exam"
      ]
    },
    {
      "cell_type": "markdown",
      "metadata": {
        "id": "XDarm5jvick8"
      },
      "source": [
        "##PROBLEM STATEMENT 1"
      ]
    },
    {
      "cell_type": "code",
      "metadata": {
        "colab": {
          "base_uri": "https://localhost:8080/"
        },
        "id": "yOO-OaWOimMx",
        "outputId": "3605441f-aacc-470d-aa5f-49ebeb17486a"
      },
      "source": [
        "a = \"Aguado, Danielle Ysabelle M.\"     #This program prints Aguado, Danielle Ysabelle M.\n",
        "print(\"Name: \" + a)"
      ],
      "execution_count": 5,
      "outputs": [
        {
          "output_type": "stream",
          "name": "stdout",
          "text": [
            "Name: Aguado, Danielle Ysabelle M.\n"
          ]
        }
      ]
    },
    {
      "cell_type": "code",
      "metadata": {
        "colab": {
          "base_uri": "https://localhost:8080/"
        },
        "id": "nLYCrrYrlW3s",
        "outputId": "7ecb251b-3ef8-4166-b1bb-29b1de4fa651"
      },
      "source": [
        "e = \"202102333\"       #This program prints 202102333\n",
        "print(\"Student Number: \" + e)"
      ],
      "execution_count": 10,
      "outputs": [
        {
          "output_type": "stream",
          "name": "stdout",
          "text": [
            "Student Number: 202102333\n"
          ]
        }
      ]
    },
    {
      "cell_type": "code",
      "metadata": {
        "colab": {
          "base_uri": "https://localhost:8080/"
        },
        "id": "8ufSJ4AVkNLm",
        "outputId": "06229447-c606-4d0b-c273-600b3723881a"
      },
      "source": [
        "b = \"18 years old\"    #This program prints 18 years old\n",
        "c = \"Age: \"\n",
        "d = c + b\n",
        "print (d)"
      ],
      "execution_count": 9,
      "outputs": [
        {
          "output_type": "stream",
          "name": "stdout",
          "text": [
            "Age: 18 years old\n"
          ]
        }
      ]
    },
    {
      "cell_type": "code",
      "metadata": {
        "colab": {
          "base_uri": "https://localhost:8080/"
        },
        "id": "AuMc5UqBlSXc",
        "outputId": "e6a99b92-8c80-4b70-cb26-0b03c7d06d95"
      },
      "source": [
        "f = \"December 4, 2002\"   #This program prints December 4, 2002\n",
        "print(\"Birthday: \" + f)"
      ],
      "execution_count": 11,
      "outputs": [
        {
          "output_type": "stream",
          "name": "stdout",
          "text": [
            "Birthday: December 4, 2002\n"
          ]
        }
      ]
    },
    {
      "cell_type": "code",
      "metadata": {
        "colab": {
          "base_uri": "https://localhost:8080/"
        },
        "id": "U_qOpx_gmTUw",
        "outputId": "d60e7d60-761c-4364-9646-8f4941db6daa"
      },
      "source": [
        "g = \"Rancho Imperial Subd., Tartaria, Silang, Cavite\"     #This program prints Rancho Imperial Subd., Tartaria, Silang, Cavite\n",
        "h = \"Address: \"\n",
        "i = h + g\n",
        "print(i)"
      ],
      "execution_count": 12,
      "outputs": [
        {
          "output_type": "stream",
          "name": "stdout",
          "text": [
            "Address: Rancho Imperial Subd., Tartaria, Silang, Cavite\n"
          ]
        }
      ]
    },
    {
      "cell_type": "code",
      "metadata": {
        "colab": {
          "base_uri": "https://localhost:8080/"
        },
        "id": "amf6oLDim_5i",
        "outputId": "7cff549d-4ebe-4797-fa2d-d0ee1bf39553"
      },
      "source": [
        "j = \"BS Computer Engineering\"   #This program prints BS Computer Engineering\n",
        "print(\"Course: \" + j)"
      ],
      "execution_count": 13,
      "outputs": [
        {
          "output_type": "stream",
          "name": "stdout",
          "text": [
            "Course: BS Computer Engineering\n"
          ]
        }
      ]
    },
    {
      "cell_type": "code",
      "metadata": {
        "colab": {
          "base_uri": "https://localhost:8080/"
        },
        "id": "VtFlcNYknY13",
        "outputId": "29af7eb3-773e-48f7-b097-b10e26b14a98"
      },
      "source": [
        "k = \"95\"                        #This program prints 95\n",
        "print(\"Last Sem GWA: \" + k)"
      ],
      "execution_count": 14,
      "outputs": [
        {
          "output_type": "stream",
          "name": "stdout",
          "text": [
            "Last Sem GWA: 95\n"
          ]
        }
      ]
    },
    {
      "cell_type": "markdown",
      "metadata": {
        "id": "2TBBCmGbn_Rl"
      },
      "source": [
        "##PROBLEM STATEMENT 2"
      ]
    },
    {
      "cell_type": "code",
      "metadata": {
        "colab": {
          "base_uri": "https://localhost:8080/"
        },
        "id": "bySXTpbEoQpm",
        "outputId": "66340e0f-fc49-4229-afec-d86522199ffd"
      },
      "source": [
        "n = 4\n",
        "answ = \"Y\"\n",
        "(2<n) & (n<6)     #Letter a conditon"
      ],
      "execution_count": 45,
      "outputs": [
        {
          "output_type": "execute_result",
          "data": {
            "text/plain": [
              "True"
            ]
          },
          "metadata": {},
          "execution_count": 45
        }
      ]
    },
    {
      "cell_type": "code",
      "metadata": {
        "colab": {
          "base_uri": "https://localhost:8080/"
        },
        "id": "PidsQP66pl-7",
        "outputId": "98fd74d1-98ea-4584-dc53-67b9386d9e36"
      },
      "source": [
        "l = (2<n)         #Letter b condition\n",
        "m = (n == 6)\n",
        "n = (l | m)\n",
        "print(n)"
      ],
      "execution_count": 46,
      "outputs": [
        {
          "output_type": "stream",
          "name": "stdout",
          "text": [
            "True\n"
          ]
        }
      ]
    },
    {
      "cell_type": "code",
      "metadata": {
        "colab": {
          "base_uri": "https://localhost:8080/"
        },
        "id": "q5jasjUiqT0J",
        "outputId": "4c603599-8167-4f0c-c8b1-29cf204f3f4c"
      },
      "source": [
        "not((2<n) or (n == 6))   #Letter c condition"
      ],
      "execution_count": 54,
      "outputs": [
        {
          "output_type": "execute_result",
          "data": {
            "text/plain": [
              "True"
            ]
          },
          "metadata": {},
          "execution_count": 54
        }
      ]
    },
    {
      "cell_type": "code",
      "metadata": {
        "colab": {
          "base_uri": "https://localhost:8080/"
        },
        "id": "LqLjElfuqtNi",
        "outputId": "101c077d-89a9-4a64-eafb-13d02fc4bd15"
      },
      "source": [
        "not(n<6)        #Letter d condition"
      ],
      "execution_count": 49,
      "outputs": [
        {
          "output_type": "execute_result",
          "data": {
            "text/plain": [
              "False"
            ]
          },
          "metadata": {},
          "execution_count": 49
        }
      ]
    },
    {
      "cell_type": "code",
      "metadata": {
        "colab": {
          "base_uri": "https://localhost:8080/"
        },
        "id": "3kcAfN6ItMbS",
        "outputId": "abf7d2cd-2ea8-4356-d419-e18c94ec7148"
      },
      "source": [
        "answ = \"Y\"\n",
        "(answ == \"Y\") or (answ == \"y\")"
      ],
      "execution_count": 64,
      "outputs": [
        {
          "output_type": "execute_result",
          "data": {
            "text/plain": [
              "True"
            ]
          },
          "metadata": {},
          "execution_count": 64
        }
      ]
    },
    {
      "cell_type": "code",
      "metadata": {
        "colab": {
          "base_uri": "https://localhost:8080/"
        },
        "id": "tIDblsiftrjh",
        "outputId": "f86a0fe0-587b-4de7-f685-86578f2bec30"
      },
      "source": [
        "(answ==\"Y\") & (answ==\"y\")"
      ],
      "execution_count": 66,
      "outputs": [
        {
          "output_type": "execute_result",
          "data": {
            "text/plain": [
              "False"
            ]
          },
          "metadata": {},
          "execution_count": 66
        }
      ]
    },
    {
      "cell_type": "code",
      "metadata": {
        "colab": {
          "base_uri": "https://localhost:8080/"
        },
        "id": "1RySZ5PdxHPl",
        "outputId": "133edb0c-966a-449a-f248-893252d43df8"
      },
      "source": [
        "not(answ==\"y\")"
      ],
      "execution_count": 67,
      "outputs": [
        {
          "output_type": "execute_result",
          "data": {
            "text/plain": [
              "True"
            ]
          },
          "metadata": {},
          "execution_count": 67
        }
      ]
    },
    {
      "cell_type": "code",
      "metadata": {
        "colab": {
          "base_uri": "https://localhost:8080/"
        },
        "id": "l1EiWDGt0dzX",
        "outputId": "96d14631-f888-49a1-f608-fc9423dcad7e"
      },
      "source": [
        "n = 4\n",
        "answ = \"Y\"\n",
        "((2<n) & (n ==5+1)) or (answ ==\"No\")"
      ],
      "execution_count": 70,
      "outputs": [
        {
          "output_type": "execute_result",
          "data": {
            "text/plain": [
              "False"
            ]
          },
          "metadata": {},
          "execution_count": 70
        }
      ]
    },
    {
      "cell_type": "code",
      "metadata": {
        "colab": {
          "base_uri": "https://localhost:8080/"
        },
        "id": "6lCqhYKU0tJZ",
        "outputId": "09970056-87c5-4924-e092-39829779f022"
      },
      "source": [
        "((n==2)& (n==7)) or (answ==\"Y\")"
      ],
      "execution_count": 72,
      "outputs": [
        {
          "output_type": "execute_result",
          "data": {
            "text/plain": [
              "True"
            ]
          },
          "metadata": {},
          "execution_count": 72
        }
      ]
    },
    {
      "cell_type": "code",
      "metadata": {
        "colab": {
          "base_uri": "https://localhost:8080/"
        },
        "id": "E7pYybt10zNQ",
        "outputId": "9c7a847c-5b8e-4815-b7c9-94f950488a79"
      },
      "source": [
        "(n==2) & ((n==7) or (answ==\"Y\"))"
      ],
      "execution_count": 75,
      "outputs": [
        {
          "output_type": "execute_result",
          "data": {
            "text/plain": [
              "False"
            ]
          },
          "metadata": {},
          "execution_count": 75
        }
      ]
    },
    {
      "cell_type": "markdown",
      "metadata": {
        "id": "G5ylnr_PtxoX"
      },
      "source": [
        "##PROBLEM STATEMENT 3"
      ]
    },
    {
      "cell_type": "code",
      "metadata": {
        "colab": {
          "base_uri": "https://localhost:8080/"
        },
        "id": "KDh9f4_it1MP",
        "outputId": "78a7b0f5-006d-4dcc-8c4e-262841d05616"
      },
      "source": [
        "x = 2\n",
        "y = -3\n",
        "w = 7\n",
        "z = -10\n",
        "\n",
        "print(x/y)      #Letter a"
      ],
      "execution_count": 39,
      "outputs": [
        {
          "output_type": "stream",
          "name": "stdout",
          "text": [
            "-0.6666666666666666\n"
          ]
        }
      ]
    },
    {
      "cell_type": "code",
      "metadata": {
        "colab": {
          "base_uri": "https://localhost:8080/"
        },
        "id": "eJgNoj50uejs",
        "outputId": "85ad28ea-021a-4346-95d7-2526caa068ec"
      },
      "source": [
        "print(w/y/x)    #Letter b"
      ],
      "execution_count": 40,
      "outputs": [
        {
          "output_type": "stream",
          "name": "stdout",
          "text": [
            "-1.1666666666666667\n"
          ]
        }
      ]
    },
    {
      "cell_type": "code",
      "metadata": {
        "colab": {
          "base_uri": "https://localhost:8080/"
        },
        "id": "XIPeYd24uz8V",
        "outputId": "b4b65656-8f77-468c-9892-66e88a925bb0"
      },
      "source": [
        "print(z/y%x\t)   #Letter c"
      ],
      "execution_count": 43,
      "outputs": [
        {
          "output_type": "stream",
          "name": "stdout",
          "text": [
            "1.3333333333333335\n"
          ]
        }
      ]
    },
    {
      "cell_type": "code",
      "metadata": {
        "colab": {
          "base_uri": "https://localhost:8080/"
        },
        "id": "RR4-8MjevbTI",
        "outputId": "9e7d87f5-c377-483d-f957-253d887bda93"
      },
      "source": [
        "print(x%-y*w)   #Letter d"
      ],
      "execution_count": 55,
      "outputs": [
        {
          "output_type": "stream",
          "name": "stdout",
          "text": [
            "14\n"
          ]
        }
      ]
    },
    {
      "cell_type": "code",
      "metadata": {
        "colab": {
          "base_uri": "https://localhost:8080/"
        },
        "id": "vW7IuTg3x_KN",
        "outputId": "ab28bf20-51a4-4e0c-ebdf-7fa288b7e2e9"
      },
      "source": [
        "print(x%y)      #Letter e"
      ],
      "execution_count": 56,
      "outputs": [
        {
          "output_type": "stream",
          "name": "stdout",
          "text": [
            "-1\n"
          ]
        }
      ]
    },
    {
      "cell_type": "code",
      "metadata": {
        "colab": {
          "base_uri": "https://localhost:8080/"
        },
        "id": "XcRNA_tsyTaY",
        "outputId": "bf6eb9aa-6552-4cb6-b67d-fd0983c1d5e0"
      },
      "source": [
        "print(z%w-y/x*5+5)  #Letter f"
      ],
      "execution_count": 57,
      "outputs": [
        {
          "output_type": "stream",
          "name": "stdout",
          "text": [
            "16.5\n"
          ]
        }
      ]
    },
    {
      "cell_type": "code",
      "metadata": {
        "colab": {
          "base_uri": "https://localhost:8080/"
        },
        "id": "rJEPFU5PyeNE",
        "outputId": "8df42314-b101-4a1b-b9aa-e1a978d4d0da"
      },
      "source": [
        "print(9-x%(2+y))  #Letter g"
      ],
      "execution_count": 58,
      "outputs": [
        {
          "output_type": "stream",
          "name": "stdout",
          "text": [
            "9\n"
          ]
        }
      ]
    },
    {
      "cell_type": "code",
      "metadata": {
        "colab": {
          "base_uri": "https://localhost:8080/"
        },
        "id": "PBPVlYS6yq-0",
        "outputId": "d24efcd6-8e3f-4f7d-ad7e-2f3305a6aa71"
      },
      "source": [
        "print(z//w)       #Letter h"
      ],
      "execution_count": 59,
      "outputs": [
        {
          "output_type": "stream",
          "name": "stdout",
          "text": [
            "-2\n"
          ]
        }
      ]
    },
    {
      "cell_type": "code",
      "metadata": {
        "colab": {
          "base_uri": "https://localhost:8080/"
        },
        "id": "LdNCrzkqyyTe",
        "outputId": "13f75e05-18c4-4310-d344-8b61fe22e8f8"
      },
      "source": [
        "print ((2+y)**2)   #Letter i"
      ],
      "execution_count": 60,
      "outputs": [
        {
          "output_type": "stream",
          "name": "stdout",
          "text": [
            "1\n"
          ]
        }
      ]
    },
    {
      "cell_type": "code",
      "metadata": {
        "colab": {
          "base_uri": "https://localhost:8080/"
        },
        "id": "mN6CeHHby9ox",
        "outputId": "3250f4e4-1336-4027-8750-7df07b54b12e"
      },
      "source": [
        "print(w/x*2)      #Letter j"
      ],
      "execution_count": 61,
      "outputs": [
        {
          "output_type": "stream",
          "name": "stdout",
          "text": [
            "7.0\n"
          ]
        }
      ]
    }
  ]
}