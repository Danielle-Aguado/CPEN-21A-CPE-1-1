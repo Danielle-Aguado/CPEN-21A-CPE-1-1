{
  "nbformat": 4,
  "nbformat_minor": 0,
  "metadata": {
    "colab": {
      "name": "Demo1.ipynb",
      "provenance": [],
      "authorship_tag": "ABX9TyNzIA+O/QwDnHp5Hglou+fQ",
      "include_colab_link": true
    },
    "kernelspec": {
      "name": "python3",
      "display_name": "Python 3"
    },
    "language_info": {
      "name": "python"
    }
  },
  "cells": [
    {
      "cell_type": "markdown",
      "metadata": {
        "id": "view-in-github",
        "colab_type": "text"
      },
      "source": [
        "<a href=\"https://colab.research.google.com/github/Danielle-Aguado/CPEN-21A-CPE-1-1/blob/main/Demo1.ipynb\" target=\"_parent\"><img src=\"https://colab.research.google.com/assets/colab-badge.svg\" alt=\"Open In Colab\"/></a>"
      ]
    },
    {
      "cell_type": "markdown",
      "metadata": {
        "id": "LT6sI8HGfsQ4"
      },
      "source": [
        "#Introduction to Python Programming"
      ]
    },
    {
      "cell_type": "markdown",
      "metadata": {
        "id": "EpCgpNMBjLEZ"
      },
      "source": [
        "###Naming of variable"
      ]
    },
    {
      "cell_type": "code",
      "metadata": {
        "id": "e5b-HfcJjQDu",
        "colab": {
          "base_uri": "https://localhost:8080/"
        },
        "outputId": "7a9eb499-8159-4bbf-f175-9bad7c27f009"
      },
      "source": [
        "a, b, c,= 0, 1, 2\n",
        "print(a)\n",
        "print(b)\n",
        "print(c)"
      ],
      "execution_count": null,
      "outputs": [
        {
          "output_type": "stream",
          "name": "stdout",
          "text": [
            "0\n",
            "1\n",
            "2\n"
          ]
        }
      ]
    },
    {
      "cell_type": "code",
      "metadata": {
        "id": "PTJtShjvqOWa",
        "outputId": "6c4c3ce6-8441-4bc6-cc44-80408dc7f96c",
        "colab": {
          "base_uri": "https://localhost:8080/"
        }
      },
      "source": [
        "print (type(a))"
      ],
      "execution_count": 11,
      "outputs": [
        {
          "output_type": "stream",
          "name": "stdout",
          "text": [
            "<class 'int'>\n"
          ]
        }
      ]
    },
    {
      "cell_type": "code",
      "metadata": {
        "id": "W7OtszTJjvfo",
        "colab": {
          "base_uri": "https://localhost:8080/"
        },
        "outputId": "d8166def-ef83-44d1-ed2a-c2bc73c24d60"
      },
      "source": [
        "a = 3\n",
        "float(a)"
      ],
      "execution_count": null,
      "outputs": [
        {
          "output_type": "execute_result",
          "data": {
            "text/plain": [
              "3.0"
            ]
          },
          "metadata": {},
          "execution_count": 4
        }
      ]
    },
    {
      "cell_type": "code",
      "metadata": {
        "colab": {
          "base_uri": "https://localhost:8080/"
        },
        "id": "NENsFYFknhvd",
        "outputId": "c68bb5fb-5507-44e9-eac7-300954faf67e"
      },
      "source": [
        "f = a\n",
        "print(f)"
      ],
      "execution_count": 6,
      "outputs": [
        {
          "output_type": "stream",
          "name": "stdout",
          "text": [
            "3\n"
          ]
        }
      ]
    },
    {
      "cell_type": "code",
      "metadata": {
        "colab": {
          "base_uri": "https://localhost:8080/"
        },
        "id": "Ocxp3cv8ns6f",
        "outputId": "9b973a64-75a4-44e9-b154-20ed78d022f6"
      },
      "source": [
        "g = \"Good morning\"\n",
        "print(g)"
      ],
      "execution_count": 9,
      "outputs": [
        {
          "output_type": "stream",
          "name": "stdout",
          "text": [
            "Good morning\n"
          ]
        }
      ]
    },
    {
      "cell_type": "markdown",
      "metadata": {
        "id": "_xjkvR67bDwl"
      },
      "source": [
        "###One Value to Multiple Variable"
      ]
    },
    {
      "cell_type": "code",
      "metadata": {
        "colab": {
          "base_uri": "https://localhost:8080/"
        },
        "id": "yx-Uhn8CbIOo",
        "outputId": "9e95c7dc-7873-495f-9e35-1add5cb93bfb"
      },
      "source": [
        "x = y = z =\"four\"\n",
        "print(x)\n",
        "print(y)\n",
        "print(z)"
      ],
      "execution_count": null,
      "outputs": [
        {
          "output_type": "stream",
          "name": "stdout",
          "text": [
            "four\n",
            "four\n",
            "four\n"
          ]
        }
      ]
    },
    {
      "cell_type": "code",
      "metadata": {
        "colab": {
          "base_uri": "https://localhost:8080/"
        },
        "id": "UXVUyOZsbXbO",
        "outputId": "52216791-0e89-4236-9f28-4e203413d25a"
      },
      "source": [
        "x = \"enjoying\"\n",
        "print(\"Programming is \" + x)"
      ],
      "execution_count": null,
      "outputs": [
        {
          "output_type": "stream",
          "name": "stdout",
          "text": [
            "Programming is enjoying\n"
          ]
        }
      ]
    },
    {
      "cell_type": "code",
      "metadata": {
        "id": "tmlAPDgzp0Tv",
        "outputId": "aacaed73-a2c9-4f4d-8bb4-b812db5a0934",
        "colab": {
          "base_uri": "https://localhost:8080/"
        }
      },
      "source": [
        "e = \"many uses\"\n",
        "print(\"Programming have \" + e)"
      ],
      "execution_count": 10,
      "outputs": [
        {
          "output_type": "stream",
          "name": "stdout",
          "text": [
            "Programming have many uses\n"
          ]
        }
      ]
    },
    {
      "cell_type": "code",
      "metadata": {
        "colab": {
          "base_uri": "https://localhost:8080/"
        },
        "id": "h3wVGzikn_AD",
        "outputId": "6d767e31-261b-47d0-b661-d1529d4ad79d"
      },
      "source": [
        "x = 4\n",
        "y = 5\n",
        "print(x + y)\n",
        "print(x - y)"
      ],
      "execution_count": 12,
      "outputs": [
        {
          "output_type": "stream",
          "name": "stdout",
          "text": [
            "9\n",
            "-1\n"
          ]
        }
      ]
    },
    {
      "cell_type": "code",
      "metadata": {
        "id": "Isdi6nz2rELF",
        "outputId": "7a292b9c-b26e-460a-a6be-97cef1ff6064",
        "colab": {
          "base_uri": "https://localhost:8080/"
        }
      },
      "source": [
        "x>y and x == x"
      ],
      "execution_count": 14,
      "outputs": [
        {
          "output_type": "execute_result",
          "data": {
            "text/plain": [
              "False"
            ]
          },
          "metadata": {},
          "execution_count": 14
        }
      ]
    },
    {
      "cell_type": "code",
      "metadata": {
        "colab": {
          "base_uri": "https://localhost:8080/"
        },
        "id": "i0ZHuz6Gb5Un",
        "outputId": "e3f78d75-ca01-48c8-f9e3-656ae2c3a502"
      },
      "source": [
        "x = 3\n",
        "y = 5\n",
        "sum = x + y\n",
        "print(sum)"
      ],
      "execution_count": null,
      "outputs": [
        {
          "output_type": "stream",
          "name": "stdout",
          "text": [
            "8\n"
          ]
        }
      ]
    },
    {
      "cell_type": "code",
      "metadata": {
        "colab": {
          "base_uri": "https://localhost:8080/"
        },
        "id": "rTRIGAexcnDA",
        "outputId": "eb8fcea6-114f-4ad7-fb34-6138fdbb949c"
      },
      "source": [
        "x<y and x == x    #This is an example of programming"
      ],
      "execution_count": null,
      "outputs": [
        {
          "output_type": "execute_result",
          "data": {
            "text/plain": [
              "True"
            ]
          },
          "metadata": {},
          "execution_count": 9
        }
      ]
    },
    {
      "cell_type": "code",
      "metadata": {
        "id": "HMT9Sciyq39Z",
        "outputId": "b9d3e919-de47-4de5-8de1-63313bc782e0",
        "colab": {
          "base_uri": "https://localhost:8080/"
        }
      },
      "source": [
        "not(x<y and x == x)"
      ],
      "execution_count": 13,
      "outputs": [
        {
          "output_type": "execute_result",
          "data": {
            "text/plain": [
              "False"
            ]
          },
          "metadata": {},
          "execution_count": 13
        }
      ]
    }
  ]
}