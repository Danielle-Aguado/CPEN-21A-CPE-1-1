{
  "nbformat": 4,
  "nbformat_minor": 0,
  "metadata": {
    "colab": {
      "name": "Lab1.ipynb",
      "provenance": [],
      "authorship_tag": "ABX9TyNFtG+NFxcheyvyEvwePLb+",
      "include_colab_link": true
    },
    "kernelspec": {
      "name": "python3",
      "display_name": "Python 3"
    },
    "language_info": {
      "name": "python"
    }
  },
  "cells": [
    {
      "cell_type": "markdown",
      "metadata": {
        "id": "view-in-github",
        "colab_type": "text"
      },
      "source": [
        "<a href=\"https://colab.research.google.com/github/Danielle-Aguado/CPEN-21A-CPE-1-1/blob/main/Lab1.ipynb\" target=\"_parent\"><img src=\"https://colab.research.google.com/assets/colab-badge.svg\" alt=\"Open In Colab\"/></a>"
      ]
    },
    {
      "cell_type": "markdown",
      "metadata": {
        "id": "fh96lT6sZLoN"
      },
      "source": [
        "#Laboratory 1"
      ]
    },
    {
      "cell_type": "code",
      "metadata": {
        "colab": {
          "base_uri": "https://localhost:8080/"
        },
        "id": "KryVA5a0bI51",
        "outputId": "e0807c5d-20cb-43b8-ac0e-cfa5c2c5e8dd"
      },
      "source": [
        "a = \"Welcome to \"\n",
        "b = \"Python Programming\"\n",
        "c = a + b\n",
        "print(c)\n"
      ],
      "execution_count": 12,
      "outputs": [
        {
          "output_type": "stream",
          "name": "stdout",
          "text": [
            "Welcome to Python Programming\n"
          ]
        }
      ]
    },
    {
      "cell_type": "code",
      "metadata": {
        "colab": {
          "base_uri": "https://localhost:8080/"
        },
        "id": "DWEEi1JoZU8n",
        "outputId": "b568d8bd-931e-46cb-e6b9-0f49ebaa5af8"
      },
      "source": [
        "w = \"Aguado, Danielle Ysabelle M.\"\n",
        "print(\"Name: \" + w)"
      ],
      "execution_count": 5,
      "outputs": [
        {
          "output_type": "stream",
          "name": "stdout",
          "text": [
            "Name: Aguado, Danielle Ysabelle M.\n"
          ]
        }
      ]
    },
    {
      "cell_type": "code",
      "metadata": {
        "colab": {
          "base_uri": "https://localhost:8080/"
        },
        "id": "j7-YbCRZaeNf",
        "outputId": "322ab441-bd9e-41ea-94de-4d4b48e55d60"
      },
      "source": [
        "x = \"Rancho Imperial Subd., Tartaria, Silang, Cavite\"\n",
        "print(\"Address: \" + x)"
      ],
      "execution_count": 6,
      "outputs": [
        {
          "output_type": "stream",
          "name": "stdout",
          "text": [
            "Address: Rancho Imperial Subd., Tartaria, Silang, Cavite\n"
          ]
        }
      ]
    },
    {
      "cell_type": "code",
      "metadata": {
        "colab": {
          "base_uri": "https://localhost:8080/"
        },
        "id": "DcQo6J13a-xS",
        "outputId": "339bbcb6-afe3-43a0-a107-04ba0fbf7f50"
      },
      "source": [
        "y = \"18\"\n",
        "print(\"Age: \" + y)"
      ],
      "execution_count": 7,
      "outputs": [
        {
          "output_type": "stream",
          "name": "stdout",
          "text": [
            "Age: 18\n"
          ]
        }
      ]
    }
  ]
}