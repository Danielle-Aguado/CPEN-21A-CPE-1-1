{
  "nbformat": 4,
  "nbformat_minor": 0,
  "metadata": {
    "colab": {
      "name": "Final Exam.ipynb",
      "provenance": [],
      "authorship_tag": "ABX9TyNNxSQkXAQY5evGW0MJJ2Zp",
      "include_colab_link": true
    },
    "kernelspec": {
      "name": "python3",
      "display_name": "Python 3"
    },
    "language_info": {
      "name": "python"
    }
  },
  "cells": [
    {
      "cell_type": "markdown",
      "metadata": {
        "id": "view-in-github",
        "colab_type": "text"
      },
      "source": [
        "<a href=\"https://colab.research.google.com/github/Danielle-Aguado/CPEN-21A-CPE-1-1/blob/main/Final_Exam.ipynb\" target=\"_parent\"><img src=\"https://colab.research.google.com/assets/colab-badge.svg\" alt=\"Open In Colab\"/></a>"
      ]
    },
    {
      "cell_type": "markdown",
      "source": [
        "#Final Exam"
      ],
      "metadata": {
        "id": "LYsijXAUZFrn"
      }
    },
    {
      "cell_type": "markdown",
      "source": [
        "###PROBLEM STATEMENT 1"
      ],
      "metadata": {
        "id": "e1QWO58vqk3J"
      }
    },
    {
      "cell_type": "code",
      "source": [
        "#FOR LOOP Statement\n",
        "n = (-5,-4,-3,-2,-1,0,1,2,3,4)\n",
        "sum = 0\n",
        "for x in n:\n",
        "  sum = sum + x\n",
        "print(sum)\n"
      ],
      "metadata": {
        "colab": {
          "base_uri": "https://localhost:8080/"
        },
        "id": "v0BedDvGIgEd",
        "outputId": "8d70d0a4-03f7-4eb5-f191-76935aa888d2"
      },
      "execution_count": null,
      "outputs": [
        {
          "output_type": "stream",
          "name": "stdout",
          "text": [
            "-5\n"
          ]
        }
      ]
    },
    {
      "cell_type": "markdown",
      "source": [
        "###PROBLEM STATEMENT 2"
      ],
      "metadata": {
        "id": "k9mHwHXzeyD3"
      }
    },
    {
      "cell_type": "code",
      "source": [
        "#WHILE LOOP Statement\n",
        "a = 0\n",
        "first = 0\n",
        "last = 0\n",
        "while a<5:\n",
        "  a += 1\n",
        "  num = int(input(\"Number\" + str(a) + \":\"))\n",
        "  if a == 1:\n",
        "    first = num\n",
        "  elif a == 5:\n",
        "    last = num\n",
        "print(\"The sum of first and last number is\", first + last)\n"
      ],
      "metadata": {
        "colab": {
          "base_uri": "https://localhost:8080/"
        },
        "id": "ClrIiUyYe3Od",
        "outputId": "7b63ff56-a7c9-4406-ad81-05a908fd2f89"
      },
      "execution_count": null,
      "outputs": [
        {
          "output_type": "stream",
          "name": "stdout",
          "text": [
            "Number1:4\n",
            "Number2:5\n",
            "Number3:6\n",
            "Number4:7\n",
            "Number5:8\n",
            "The sum of first and last number is 12\n"
          ]
        }
      ]
    },
    {
      "cell_type": "markdown",
      "source": [
        "###PROBLEM STATEMENT 3\n"
      ],
      "metadata": {
        "id": "5m0-UvYi6dFy"
      }
    },
    {
      "cell_type": "code",
      "source": [
        "j = int(input(\"Enter the grade: \"))\n",
        "if j>=90 and j<=100:\n",
        "  print(\"Grade: A\")\n",
        "elif j>=80 and j<=89:\n",
        "  print(\"Grade: B\")\n",
        "elif j>=70 and j<=79:\n",
        "  print(\"Grade: C\")\n",
        "elif j>=60 and j<=69:\n",
        "  print(\"Grade: D\")\n",
        "else:\n",
        "  print(\"Grade: F\")\n",
        "\n",
        " "
      ],
      "metadata": {
        "colab": {
          "base_uri": "https://localhost:8080/"
        },
        "id": "aKO-ki71jqVm",
        "outputId": "430d6e22-6aa3-47e9-c29f-fdcca903f5dd"
      },
      "execution_count": null,
      "outputs": [
        {
          "output_type": "stream",
          "name": "stdout",
          "text": [
            "Enter the grade: 95\n",
            "Grade: A\n"
          ]
        }
      ]
    }
  ]
}